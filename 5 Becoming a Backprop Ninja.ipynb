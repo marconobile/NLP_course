{
 "cells": [
  {
   "cell_type": "code",
   "execution_count": 1,
   "id": "9ce2919c",
   "metadata": {},
   "outputs": [],
   "source": [
    "import random\n",
    "import torch\n",
    "import torch.nn.functional as F\n",
    "import matplotlib.pyplot as plt # for making figures\n",
    "%matplotlib inline\n",
    "random.seed(42)"
   ]
  },
  {
   "cell_type": "code",
   "execution_count": 2,
   "id": "1c296abf",
   "metadata": {},
   "outputs": [],
   "source": [
    "words = open('names.txt', 'r').read().splitlines()\n",
    "chars = sorted(list(set(''.join(words))))\n",
    "stoi = {s:i+1 for i,s in enumerate(chars)}\n",
    "stoi['.'] = 0\n",
    "itos = {i:s for s,i in stoi.items()}\n",
    "vocab_size = len(itos)"
   ]
  },
  {
   "cell_type": "code",
   "execution_count": 3,
   "id": "3166e343",
   "metadata": {},
   "outputs": [],
   "source": [
    "block_size = 3\n",
    "\n",
    "def build_dataset(words):  \n",
    "    X, Y = [], []\n",
    "  \n",
    "    for w in words:\n",
    "        context = [0] * block_size\n",
    "        for ch in w + '.':\n",
    "            ix = stoi[ch]\n",
    "            X.append(context)\n",
    "            Y.append(ix)\n",
    "            context = context[1:] + [ix] # crop and append\n",
    "\n",
    "    X = torch.tensor(X)\n",
    "    Y = torch.tensor(Y)\n",
    "    print(X.shape, Y.shape)\n",
    "    return X, Y"
   ]
  },
  {
   "cell_type": "code",
   "execution_count": 4,
   "id": "01143aa0",
   "metadata": {},
   "outputs": [
    {
     "name": "stdout",
     "output_type": "stream",
     "text": [
      "torch.Size([182625, 3]) torch.Size([182625])\n",
      "torch.Size([22655, 3]) torch.Size([22655])\n",
      "torch.Size([22866, 3]) torch.Size([22866])\n"
     ]
    }
   ],
   "source": [
    "random.shuffle(words)\n",
    "n1 = int(0.8*len(words))\n",
    "n2 = int(0.9*len(words))\n",
    "\n",
    "Xtr,  Ytr  = build_dataset(words[:n1])  \n",
    "Xdev, Ydev = build_dataset(words[n1:n2])\n",
    "Xte,  Yte  = build_dataset(words[n2:])  "
   ]
  },
  {
   "cell_type": "code",
   "execution_count": 5,
   "id": "472752da",
   "metadata": {},
   "outputs": [],
   "source": [
    "# utility function we will use later when comparing manual gradients to PyTorch gradients\n",
    "def cmp(s, dt, t):\n",
    "    ex = torch.all(dt == t.grad).item()\n",
    "    app = torch.allclose(dt, t.grad) # cool\n",
    "    maxdiff = (dt - t.grad).abs().max().item()\n",
    "    print(f'{s:15s} | exact: {str(ex):5s} | approximate: {str(app):5s} | maxdiff: {maxdiff}')"
   ]
  },
  {
   "cell_type": "code",
   "execution_count": 6,
   "id": "a397ae54",
   "metadata": {},
   "outputs": [
    {
     "name": "stdout",
     "output_type": "stream",
     "text": [
      "4137\n"
     ]
    }
   ],
   "source": [
    "n_embd = 10 # the dimensionality of the character embedding vectors\n",
    "n_hidden = 64 # the number of neurons in the hidden layer of the MLP\n",
    "\n",
    "g = torch.Generator().manual_seed(2147483647)\n",
    "\n",
    "C  = torch.randn((vocab_size, n_embd), generator=g)\n",
    "\n",
    "# Layer 1\n",
    "W1 = torch.randn((n_embd * block_size, n_hidden), generator=g) * (5/3)/((n_embd * block_size)**0.5)\n",
    "b1 = torch.randn(n_hidden, generator=g) * 0.1 # using b1 for exercize, it's useless because of BN\n",
    "\n",
    "# Layer 2\n",
    "W2 = torch.randn((n_hidden, vocab_size), generator=g) * 0.1\n",
    "b2 = torch.randn(vocab_size, generator=g) * 0.1\n",
    "\n",
    "# BatchNorm parameters\n",
    "bngain = torch.randn((1, n_hidden))*0.1 + 1.0\n",
    "bnbias = torch.randn((1, n_hidden))*0.1\n",
    "\n",
    "# Note: I am initializating many of these parameters in non-standard ways\n",
    "# because sometimes initializating with e.g. all zeros could mask an incorrect\n",
    "# implementation of the backward pass.\n",
    "\n",
    "parameters = [C, W1, b1, W2, b2, bngain, bnbias]\n",
    "print(sum(p.nelement() for p in parameters)) # number of parameters in total\n",
    "for p in parameters: p.requires_grad = True"
   ]
  },
  {
   "cell_type": "code",
   "execution_count": 7,
   "id": "eef5f2c1",
   "metadata": {},
   "outputs": [],
   "source": [
    "batch_size = 32\n",
    "n = batch_size # a shorter variable also, for convenience\n",
    "\n",
    "# construct a minibatch\n",
    "ix = torch.randint(0, Xtr.shape[0], (batch_size,), generator=g)\n",
    "Xb, Yb = Xtr[ix], Ytr[ix] # batch X,Y"
   ]
  },
  {
   "cell_type": "code",
   "execution_count": 8,
   "id": "176b8627",
   "metadata": {},
   "outputs": [
    {
     "name": "stderr",
     "output_type": "stream",
     "text": [
      "/home/marconobile/miniconda3/envs/karpathyAI/lib/python3.10/site-packages/torch/autograd/__init__.py:251: UserWarning: CUDA initialization: CUDA unknown error - this may be due to an incorrectly set up environment, e.g. changing env variable CUDA_VISIBLE_DEVICES after program start. Setting the available devices to be zero. (Triggered internally at /opt/conda/conda-bld/pytorch_1702400366987/work/c10/cuda/CUDAFunctions.cpp:108.)\n",
      "  Variable._execution_engine.run_backward(  # Calls into the C++ engine to run the backward pass\n"
     ]
    },
    {
     "data": {
      "text/plain": [
       "tensor(3.3411, grad_fn=<NegBackward0>)"
      ]
     },
     "execution_count": 8,
     "metadata": {},
     "output_type": "execute_result"
    }
   ],
   "source": [
    "# forward pass, \"chunkated\" into smaller steps that are possible to backward one at a time\n",
    "\n",
    "emb = C[Xb] # embed the characters into vectors\n",
    "embcat = emb.view(emb.shape[0], -1) # concatenate the vectors\n",
    "\n",
    "# Linear layer 1\n",
    "hprebn = embcat @ W1 + b1 # hidden layer pre-activation\n",
    "\n",
    "# BatchNorm layer\n",
    "bnmeani = 1/n * hprebn.sum(0, keepdim=True) # keep dim to get a matrix composed by the .sum(0) row vector\n",
    "bndiff = hprebn - bnmeani # centering operation\n",
    "bndiff2 = bndiff**2 # first step to compute variance\n",
    "bnvar = 1/(n-1)*(bndiff2).sum(0, keepdim=True) # corrected var, note: Bessel's correction (dividing by n-1, not n)\n",
    "bnvar_inv = (bnvar + 1e-5)**-0.5 # denominator\n",
    "bnraw = bndiff * bnvar_inv # (x-μ)/sqrt(σ**2+ϵ)\n",
    "hpreact = bngain * bnraw + bnbias # scale_γ* (x-μ)/sqrt(σ**2+ϵ) + shift_β\n",
    "\n",
    "# Non-linearity\n",
    "h = torch.tanh(hpreact) # hidden layer\n",
    "\n",
    "# Linear layer 2\n",
    "logits = h @ W2 + b2 # output layer\n",
    "\n",
    "# cross entropy loss (same as F.cross_entropy(logits, Yb)), see Exercise 2\n",
    "logit_maxes = logits.max(1, keepdim=True).values\n",
    "norm_logits = logits - logit_maxes # subtract max for numerical stability, since exp later with this we're ok\n",
    "counts = norm_logits.exp() # e**zi\n",
    "counts_sum = counts.sum(1, keepdims=True)\n",
    "counts_sum_inv = counts_sum**-1 # if I use (1.0 / counts_sum) instead then I can't get backprop to be bit exact...\n",
    "probs = counts * counts_sum_inv # col vect where each el is the sum of the unnormalized probs over the row\n",
    "logprobs = probs.log() # logsoftmax \n",
    "\n",
    "loss = -logprobs[range(n), Yb].mean() # increase likelihood of correct log probabilities\n",
    "\n",
    "# PyTorch backward pass\n",
    "for p in parameters: p.grad = None\n",
    "for t in [logprobs, probs, counts, counts_sum, counts_sum_inv, # afaik there is no cleaner way\n",
    "          norm_logits, logit_maxes, logits, h, hpreact, bnraw,\n",
    "         bnvar_inv, bnvar, bndiff2, bndiff, hprebn, bnmeani,\n",
    "         embcat, emb]:\n",
    "    t.retain_grad()\n",
    "loss.backward()\n",
    "loss"
   ]
  },
  {
   "cell_type": "code",
   "execution_count": 9,
   "id": "fbb3671d",
   "metadata": {},
   "outputs": [
    {
     "data": {
      "text/plain": [
       "(torch.Size([32, 3]), torch.Size([32, 3, 10]), torch.Size([32, 30]))"
      ]
     },
     "execution_count": 9,
     "metadata": {},
     "output_type": "execute_result"
    }
   ],
   "source": [
    "# we start from the int version of the char, then we pass to their embeddings \n",
    "# and then we concat the embeddings to get the embed version of the 3-len seq of chars\n",
    "Xb.shape, C[Xb].shape, C[Xb].view(C[Xb].shape[0], -1).shape"
   ]
  },
  {
   "cell_type": "code",
   "execution_count": 10,
   "id": "8de542e3",
   "metadata": {},
   "outputs": [
    {
     "data": {
      "text/plain": [
       "(torch.Size([32, 64]), torch.Size([64]), torch.Size([32]))"
      ]
     },
     "execution_count": 10,
     "metadata": {},
     "output_type": "execute_result"
    }
   ],
   "source": [
    "# we take the activations pre-non-lin and we sum it collapsing the rows i.e. sum vertically to get a row vector \n",
    "# of the same dimensionality of the rows\n",
    "hprebn.shape, hprebn.sum(0).shape, hprebn.sum(1).shape"
   ]
  },
  {
   "cell_type": "code",
   "execution_count": 11,
   "id": "174e1879",
   "metadata": {},
   "outputs": [
    {
     "data": {
      "text/plain": [
       "(torch.Size([32, 27]), torch.Size([32, 1]))"
      ]
     },
     "execution_count": 11,
     "metadata": {},
     "output_type": "execute_result"
    }
   ],
   "source": [
    "# logits = log counts -> take max over the row \n",
    "logits.shape, logits.max(1, keepdim=True).values.shape"
   ]
  },
  {
   "cell_type": "code",
   "execution_count": 12,
   "id": "e670addc",
   "metadata": {},
   "outputs": [
    {
     "data": {
      "text/plain": [
       "torch.Size([32])"
      ]
     },
     "execution_count": 12,
     "metadata": {},
     "output_type": "execute_result"
    }
   ],
   "source": [
    "logprobs[range(n), Yb].shape # increase likelihood of correct log probabilities"
   ]
  },
  {
   "cell_type": "markdown",
   "id": "8dba89e5",
   "metadata": {},
   "source": [
    "# Exercise 1: manual backprop"
   ]
  },
  {
   "cell_type": "code",
   "execution_count": 13,
   "id": "448c99e3",
   "metadata": {},
   "outputs": [
    {
     "name": "stdout",
     "output_type": "stream",
     "text": [
      "torch.Size([32, 27])\n"
     ]
    }
   ],
   "source": [
    "# Let's start from:\n",
    "# loss = -logprobs[range(n), Yb].mean()\n",
    "print(logprobs.shape) \n",
    "# for each obs in batch, as output we have the pdist over the outclasses.\n",
    "# for each obs [range(n),] we select the idx of the correct class [, Yb]\n",
    "# which means that for each obs we select the logcount of the correct class, we sum them up and we take\n",
    "# their (negative) mean\n",
    "\n",
    "# IMPO: ONLY THE VALUES THAT ARE HERE CONSIDERED (I.E. THE LOGCOUNTS/LOGITS OF THE CORRECT CLASS GET GRADIENT!!!)\n",
    "# because ONLY the logits/logcounts of the correct class (for each obj) partecipates/contributes in the computation \n",
    "# of the loss"
   ]
  },
  {
   "cell_type": "markdown",
   "id": "1ae683d6",
   "metadata": {},
   "source": [
    "## - The derivative for a tensor x must match the shape of the x tensor\n",
    "## - When we take tensor.f(dim=1) we take the f over the rows, otherwise over cols\n",
    "## - Every time you have a sum in the foward pass, you have a replication/broadcasting in the backward pass along the same dimension.\n",
    "## - When we have a replication/broadcasting in the foward pass this implies a variable reuse which is handled in the backward pass via a sum over the same dimension"
   ]
  },
  {
   "cell_type": "code",
   "execution_count": 14,
   "id": "a12400dd",
   "metadata": {},
   "outputs": [
    {
     "name": "stdout",
     "output_type": "stream",
     "text": [
      "logprobs        | exact: True  | approximate: True  | maxdiff: 0.0\n"
     ]
    }
   ],
   "source": [
    "# We start from dloss/dloss = 1\n",
    "# Given: \n",
    "# loss = -logprobs[range(n), Yb].mean(); \n",
    "# compute:\n",
    "# dloss/dlogprob \n",
    "\n",
    "# idea: l = -(a+b+c)/3\n",
    "dlogprobs = torch.zeros_like(logprobs)\n",
    "dlogprobs[range(n), Yb] = -1./n \n",
    "cmp('logprobs', dlogprobs, logprobs)\n",
    "assert logprobs.shape == dlogprobs.shape\n",
    "\n",
    "# dloss/dlogprob = -1/n "
   ]
  },
  {
   "cell_type": "markdown",
   "id": "89511650",
   "metadata": {},
   "source": [
    "Summing the gradients due to individual samples you get a much smoother gradient. The larger the batch the smoother the resulting gradient used in updating the weight.\n",
    "\n",
    "Dividing the sum by the batch size and taking the average gradient has the effect of:\n",
    "\n",
    "1) The magnitude of the weight does not grow out of proportion. Adding L2 regularization to the weight update penalizes large weight values. This often leads to improved generalization performance. Taking the average, especially if the gradients happen to point in the same direction, keep the weights from getting too large.\n",
    "\n",
    "2) The magnitude of the gradient is independent of the batch size. This allows comparison of weights from other experiments using different batch sizes.\n",
    "\n",
    "3) Countering the effect of the batch size with the learning rate can be numerically equivalent but you end up with a learning rate that is implementation specific. It makes it difficult to communicate your results and experimental setup if people cannot relate to the scale of parameters you're using and they'll have trouble reproducing your experiment.\n",
    "\n",
    "Averaging enables clearer comparability and keeping gradient magnitudes independent of batch size. Choosing a batch size is sometimes constrained by the computational resources you have and you want to mitigate the effect of this when evaluating your model."
   ]
  },
  {
   "cell_type": "code",
   "execution_count": 15,
   "id": "62962fa2",
   "metadata": {},
   "outputs": [
    {
     "name": "stdout",
     "output_type": "stream",
     "text": [
      "probs           | exact: True  | approximate: True  | maxdiff: 0.0\n"
     ]
    }
   ],
   "source": [
    "# Given: \n",
    "# logprobs = probs.log()\n",
    "# compute:\n",
    "# dloss/dprobs = dloss/dlogprob * dlogprob/dprobs\n",
    " \n",
    "# rule: d' log(x) = 1/x\n",
    "dprobs =  dlogprobs * 1.0/probs # element-wise operations, chained grad * local derivative\n",
    "# the idea: if obs[i] is being correctly classified then probs[i]=1 -> 1/1*chained grad\n",
    "# the grad is passed thru. What does it mean for the grad to be passed thru?\n",
    "\n",
    "# On the other hand if obs[i] is being misclassified then probs[i]<1 \n",
    "# which implies that 1/probs[i] is large -> then grad is boosted, s.t. increase the magnitude of the \n",
    "# change that has to be apported to the weights s.t. classify correctly\n",
    "\n",
    "# the application of the log acts as: \n",
    "# \"identity func\" on the grad for all the correct predictions and as a \n",
    "# grad booster for all the incorrect predictions\n",
    "\n",
    "cmp('probs', dprobs, probs)\n",
    "assert probs.shape == dprobs.shape\n",
    "\n",
    "# dprobs =  -1/n * 1/probs"
   ]
  },
  {
   "cell_type": "code",
   "execution_count": 16,
   "id": "96580dc2",
   "metadata": {},
   "outputs": [
    {
     "name": "stdout",
     "output_type": "stream",
     "text": [
      "dcounts_sum_inv | exact: True  | approximate: True  | maxdiff: 0.0\n"
     ]
    }
   ],
   "source": [
    "# Given: \n",
    "# probs = counts * counts_sum_inv\n",
    "# compute:\n",
    "# dloss/dcounts_sum_inv = dloss/dlogprob * dlogprob/dprobs * dprobs/dcounts_sum_inv\n",
    "\n",
    "# pytorch does 2 things here:\n",
    "\n",
    "    # 1) broadcasting to perform multiplication cuz:\n",
    "    # counts.shape, counts_sum_inv.shape\n",
    "    # (torch.Size([32, 27]), torch.Size([32, 1]))\n",
    "    # so counts_sum_inv is replicated multiple time across the cols\n",
    "\n",
    "    # 2) the multiplication itself is performed\n",
    "\n",
    "    \n",
    "# toy example:\n",
    "# c = a * b \n",
    "# with a[3x3], b[3x1]\n",
    "# a11, a12, a13    b1     a11*b1 a12*b1 a13*b1\n",
    "# a21, a22, a23 *  b2  =  a21*b2 a22*b2 a23*b2\n",
    "# a31, a32, a33    b3     a31*b3 a32*b3 a33*b3\n",
    "\n",
    "# where b1=unnormalized prob of the first row (i.e. of the first example) \n",
    "# where b2=unnormalized prob of the second row (i.e. of the second example)\n",
    "# where b3=unnormalized prob of the second row (i.e. of the second example)\n",
    "\n",
    "# as we can see b1 is used 3 times in the first row, b2 3 times in the sec row, etc\n",
    "# thus b_i is used X times and thus its gradient its the sum of its X local derivatives \n",
    "# eg for b1: a11, a12, a13 -> sum the cols\n",
    "\n",
    "dstep1 = dprobs * counts\n",
    "dstep2 = dstep1.sum(1, keepdim=True)\n",
    "dcounts_sum_inv = dstep2\n",
    "cmp('dcounts_sum_inv', dcounts_sum_inv, counts_sum_inv)\n",
    "assert counts_sum_inv.shape == dcounts_sum_inv.shape\n",
    "\n",
    "# dcounts_sum_inv = -1/n * 1/probs * counts"
   ]
  },
  {
   "cell_type": "code",
   "execution_count": 17,
   "id": "6aadbf95",
   "metadata": {},
   "outputs": [
    {
     "name": "stdout",
     "output_type": "stream",
     "text": [
      "torch.Size([32, 27]) torch.Size([32, 1])\n"
     ]
    }
   ],
   "source": [
    "# Given: \n",
    "# probs = counts * counts_sum_inv \n",
    "# compute:\n",
    "# dloss/dcounts = dloss/dlogprob * dlogprob/dprobs * dprobs/dcounts\n",
    "\n",
    "print(dprobs.shape, counts_sum_inv.shape) # broadcasting makes shapes ok\n",
    "dcounts = dprobs * counts_sum_inv\n",
    "assert dcounts.shape == counts.shape\n",
    "\n",
    "# we can't check yet cuz dcounts because counts is also used to compute counts_sum, and thus also the grad\n",
    "# from this other branch of the computational graph has to be computed before checking"
   ]
  },
  {
   "cell_type": "code",
   "execution_count": 18,
   "id": "06ac957b",
   "metadata": {},
   "outputs": [
    {
     "name": "stdout",
     "output_type": "stream",
     "text": [
      "dcounts_sum     | exact: True  | approximate: True  | maxdiff: 0.0\n"
     ]
    }
   ],
   "source": [
    "# Given: \n",
    "# counts_sum_inv = counts_sum**-1\n",
    "# compute:\n",
    "# dloss/dcounts_sum = dloss/dlogprob * dlogprob/dprobs * dprobs/dcounts_sum_inv * dcounts_sum_inv/dcounts_sum\n",
    "\n",
    "dcounts_sum = -1 * counts_sum**(-2) * dcounts_sum_inv\n",
    "cmp('dcounts_sum', dcounts_sum, counts_sum)\n",
    "\n",
    "assert counts_sum.shape == dcounts_sum.shape\n",
    "\n",
    "# dcounts_sum = -1/n * 1/probs * counts * -1/counts_sum**2 = counts/(n*probs*counts_sum**2)"
   ]
  },
  {
   "cell_type": "code",
   "execution_count": 19,
   "id": "d4b26a85",
   "metadata": {},
   "outputs": [
    {
     "name": "stdout",
     "output_type": "stream",
     "text": [
      "dcounts         | exact: True  | approximate: True  | maxdiff: 0.0\n"
     ]
    }
   ],
   "source": [
    "# Given: \n",
    "# counts_sum = counts.sum(1, keepdims=True)\n",
    "# compute:\n",
    "# dloss/dcounts = dloss/dlogprob * dlogprob/dprobs * dprobs/dcounts_sum_inv * dcounts_sum_inv/dcounts_sum * \n",
    "#     dcounts_sum/dcounts\n",
    "\n",
    "# we already computed part of the counts derivative and it has shape: torch.Size([32, 27]),\n",
    "# given that counts_sum.shape has shape torch.Size([32, 1]) we need to \n",
    "\n",
    "# a11, a12, a13 ---> b1 (= a11 + a12 + a13)\n",
    "# a21, a22, a23 ---> b2 (= a21 + a22 + a23)\n",
    "# a31, a32, a33 ---> b3 (= a31 + a32 + a33)\n",
    "\n",
    "# db1/a11, db1/a12, db1/a13 ---> 1, 1, 1\n",
    "# db2/a21, db2/a22, db2/a23 ---> 1, 1, 1\n",
    "# db3/a31, db3/a32, db3/a33 ---> 1, 1, 1\n",
    "\n",
    "# the sum can be seen as a router for the gradient: the gradient \"coming from above\" is routed \"as-is\" to each\n",
    "# element that is partecipating in the sum.\n",
    "# What happens here thus is the application of dcounts_sum col vector [32, 1] previously computed \n",
    "# replicated over all the cols ||||...|| till it is [32,27]\n",
    "\n",
    "dcounts += torch.ones_like(counts_sum) * dcounts_sum\n",
    "cmp('dcounts', dcounts, counts)\n",
    "assert dcounts.shape == counts.shape"
   ]
  },
  {
   "cell_type": "code",
   "execution_count": 20,
   "id": "bed20705",
   "metadata": {},
   "outputs": [
    {
     "name": "stdout",
     "output_type": "stream",
     "text": [
      "dnorm_logits    | exact: True  | approximate: True  | maxdiff: 0.0\n"
     ]
    }
   ],
   "source": [
    "# Given: \n",
    "# counts = norm_logits.exp() \n",
    "# compute:\n",
    "# dloss/dnorm_logits = dloss/dlogprob * dlogprob/dprobs * dprobs/dcounts_sum_inv * dcounts_sum_inv/dcounts_sum * \n",
    "#     dcounts_sum/dcounts * dcounts/dnorm_logits\n",
    "\n",
    "dnorm_logits = norm_logits.exp() * dcounts\n",
    "cmp('dnorm_logits', dnorm_logits, norm_logits)\n",
    "assert counts.shape == dnorm_logits.shape"
   ]
  },
  {
   "cell_type": "code",
   "execution_count": 21,
   "id": "72c48f56",
   "metadata": {},
   "outputs": [
    {
     "name": "stdout",
     "output_type": "stream",
     "text": [
      "dlogit_maxes    | exact: True  | approximate: True  | maxdiff: 0.0\n",
      "tensor([0.1882, 0.1882, 0.2807, 0.3429]) tensor(1.0000)\n",
      "tensor([0.1882, 0.1882, 0.2807, 0.3429]) tensor(1.0000)\n"
     ]
    }
   ],
   "source": [
    "# Given: \n",
    "# norm_logits = logits - logit_maxes \n",
    "# compute:\n",
    "# dloss/dlogits = dloss/dlogprob * dlogprob/dprobs * dprobs/dcounts_sum_inv * dcounts_sum_inv/dcounts_sum * \n",
    "#     dcounts_sum/dcounts * dcounts/dnorm_logits * dnorm_logits/dlogits\n",
    "\n",
    "# here we have to be careful with shapes:\n",
    "# (torch.Size([32, 27]), torch.Size([32, 27]), torch.Size([32, 1]))\n",
    "\n",
    "# c11, c12, c13     a11, a12, a13    b1 \n",
    "# c21, c22, c23  =  a21, a22, a23  - b2  \n",
    "# c31, c32, c33     a31, a32, a33    b3 \n",
    "\n",
    "# thus c31 = a31 - b3 ----> +1, -1 \n",
    "\n",
    "dlogits = dnorm_logits.clone() # for saefty\n",
    "# logits are used in the computation of logit_maxes so no check\n",
    "\n",
    "dlogit_maxes = (-dnorm_logits).sum(1, keepdim=True) # for saefty\n",
    "cmp('dlogit_maxes', dlogit_maxes, logit_maxes)\n",
    "\n",
    "dlogit_maxes.clone().sum() # the grads of logit_maxes actually should be 0, here we are pretty close but not 0\n",
    "# cuz of floating point arithmetic. Why 0? -> cuz we are subtracting logit_maxes to logits just for numerical\n",
    "# stability and we can do this freely cuz with the softmax renormalization we are actually not changing the output \n",
    "# probabilities\n",
    "\n",
    "zi = torch.tensor([.1, .1 , .5, .7])\n",
    "zi_exp = zi.exp()\n",
    "sum_zi_ezp = zi_exp.sum() \n",
    "pdist1 = zi_exp/sum_zi_ezp\n",
    "print(pdist1, pdist1.sum())\n",
    "\n",
    "zi = torch.tensor([.1, .1 , .5, .7])\n",
    "zi -= zi.max()\n",
    "zi_exp = zi.exp()\n",
    "sum_zi_ezp = zi_exp.sum() \n",
    "pdist2 = zi_exp/sum_zi_ezp\n",
    "print(pdist2, pdist2.sum())\n",
    "\n",
    "assert torch.all(pdist1 == pdist2).item()"
   ]
  },
  {
   "cell_type": "code",
   "execution_count": 22,
   "id": "96753426",
   "metadata": {},
   "outputs": [
    {
     "name": "stdout",
     "output_type": "stream",
     "text": [
      "dlogits         | exact: True  | approximate: True  | maxdiff: 0.0\n"
     ]
    }
   ],
   "source": [
    "# Given: \n",
    "# logit_maxes = logits.max(1, keepdim=True).values\n",
    "# compute:\n",
    "# dloss/dlogits = dloss/dlogprob * dlogprob/dprobs * dprobs/dcounts_sum_inv * dcounts_sum_inv/dcounts_sum * \n",
    "#     dcounts_sum/dcounts * dcounts/dnorm_logits * dnorm_logits/dlogits * dlogits/dlogit_maxes \n",
    "#     * dlogit_maxes/dlogits\n",
    "\n",
    "# care about different shapes:\n",
    "# logits.shape = torch.Size([32, 27]); logit_maxes.shape = torch.Size([32, 1])\n",
    "\n",
    "# logits.max(1, keepdim=True) returns 2 things: 1) the (max) values 2) the indices if these maxes\n",
    "# this is just a selection: local derivative = 1 * the gradient flowing from above\n",
    "\n",
    "dlogits += F.one_hot(logits.max(dim=1).indices, num_classes=logits.shape[1]) * dlogit_maxes\n",
    "cmp('dlogits', dlogits, logits)"
   ]
  },
  {
   "cell_type": "code",
   "execution_count": 23,
   "id": "92a3a978",
   "metadata": {},
   "outputs": [
    {
     "name": "stdout",
     "output_type": "stream",
     "text": [
      "tensor([ 5,  2, 19, 15, 15, 25, 16,  3, 19,  8, 15,  3, 22,  5,  7,  5,  2,  1,\n",
      "        22, 19, 15, 19, 22, 22, 23,  5, 22, 20, 24,  6, 24, 13])\n"
     ]
    },
    {
     "data": {
      "text/plain": [
       "<matplotlib.image.AxesImage at 0x7f3dd41d0550>"
      ]
     },
     "execution_count": 23,
     "metadata": {},
     "output_type": "execute_result"
    },
    {
     "data": {
      "image/png": "[encoded data removed]",
      "text/plain": [
       "<Figure size 640x480 with 1 Axes>"
      ]
     },
     "metadata": {},
     "output_type": "display_data"
    }
   ],
   "source": [
    "print(logits.max(dim=1).indices)\n",
    "plt.imshow(F.one_hot(logits.max(dim=1).indices, num_classes=logits.shape[1])) # * dlogit_maxes\n",
    "# which is equal to:"
   ]
  },
  {
   "cell_type": "code",
   "execution_count": 24,
   "id": "46b50c7c",
   "metadata": {},
   "outputs": [
    {
     "data": {
      "text/plain": [
       "<matplotlib.image.AxesImage at 0x7f3dd39935b0>"
      ]
     },
     "execution_count": 24,
     "metadata": {},
     "output_type": "execute_result"
    },
    {
     "data": {
      "image/png": "[encoded data removed]",
      "text/plain": [
       "<Figure size 640x480 with 1 Axes>"
      ]
     },
     "metadata": {},
     "output_type": "display_data"
    }
   ],
   "source": [
    "a = torch.zeros_like(logits)\n",
    "a[range(n), logits.max(1).indices] = 1\n",
    "plt.imshow(a)"
   ]
  },
  {
   "cell_type": "code",
   "execution_count": 25,
   "id": "0c3730e2",
   "metadata": {},
   "outputs": [
    {
     "name": "stdout",
     "output_type": "stream",
     "text": [
      "torch.Size([32, 27]) torch.Size([32, 64]) torch.Size([64, 27]) torch.Size([27])\n",
      "dh              | exact: True  | approximate: True  | maxdiff: 0.0\n"
     ]
    }
   ],
   "source": [
    "# Given: \n",
    "# logits = h @ W2 + b2 # output layer\n",
    "# compute:\n",
    "# dloss/dh \n",
    "\n",
    "print(dlogits.shape, h.shape, W2.shape, b2.shape)\n",
    "\n",
    "# let's try to find a toy example to generalize (pen and paper)\n",
    "# but you can also follow the following criteria:\n",
    "\n",
    "# h is [32, 64], so dh will be of the same shape\n",
    "# we already know that dh will be a matrix multiplication between dlogits [32, 27] and\n",
    "# W2 [64, 27], thus the only way to multiply a [32, 27] by a [64, 27] is to transpose the [64, 27] ()\n",
    "\n",
    "dh = dlogits @ W2.T\n",
    "cmp('dh', dh, h)"
   ]
  },
  {
   "cell_type": "code",
   "execution_count": 26,
   "id": "6ec9c620",
   "metadata": {},
   "outputs": [
    {
     "name": "stdout",
     "output_type": "stream",
     "text": [
      "dW2             | exact: True  | approximate: True  | maxdiff: 0.0\n"
     ]
    }
   ],
   "source": [
    "# Given: \n",
    "# logits = h @ W2 + b2 # output layer\n",
    "# compute:\n",
    "# dloss/dW2 \n",
    "\n",
    "# again: h.shape, dlogits.shape: (torch.Size([32, 64]), torch.Size([32, 27]))\n",
    "# thus h.T @ dlogits\n",
    "\n",
    "dW2 = h.T @ dlogits\n",
    "cmp('dW2', dW2, W2)"
   ]
  },
  {
   "cell_type": "code",
   "execution_count": 27,
   "id": "be6d44b7",
   "metadata": {},
   "outputs": [
    {
     "name": "stdout",
     "output_type": "stream",
     "text": [
      "db2             | exact: True  | approximate: True  | maxdiff: 0.0\n"
     ]
    }
   ],
   "source": [
    "# Given: \n",
    "# logits = h @ W2 + b2 # output layer\n",
    "# compute:\n",
    "# dloss/db2\n",
    "\n",
    "# again here we already know that we need to chain the gradient from dlogits torch.Size([32, 27]))\n",
    "# and since b2 torch.Size([27]) then we know we need to eliminate the first dim of dlogits\n",
    "\n",
    "db2 = dlogits.sum(0, keepdim=True)\n",
    "cmp('db2', db2, b2)"
   ]
  },
  {
   "cell_type": "code",
   "execution_count": 28,
   "id": "34308d76",
   "metadata": {},
   "outputs": [
    {
     "name": "stdout",
     "output_type": "stream",
     "text": [
      "dhpreact        | exact: False | approximate: True  | maxdiff: 4.656612873077393e-10\n"
     ]
    }
   ],
   "source": [
    "# Given: \n",
    "# h = torch.tanh(hpreact)\n",
    "# compute:\n",
    "# dloss/dhpreact\n",
    "\n",
    "# h.shape == hpreact.shape\n",
    "dhpreact = (1.0 - h**2) * dh\n",
    "cmp('dhpreact', dhpreact, hpreact)"
   ]
  },
  {
   "cell_type": "code",
   "execution_count": 29,
   "id": "9ab61a17",
   "metadata": {},
   "outputs": [
    {
     "name": "stdout",
     "output_type": "stream",
     "text": [
      "torch.Size([32, 64]) torch.Size([1, 64]) torch.Size([32, 64]) torch.Size([1, 64])\n",
      "dbngain         | exact: False | approximate: True  | maxdiff: 3.725290298461914e-09\n"
     ]
    }
   ],
   "source": [
    "# Given: \n",
    "# hpreact = bngain * bnraw + bnbias \n",
    "# compute:\n",
    "# dloss/dbngain\n",
    "\n",
    "# given that bngain is being broadcasted across the rows, we need to sum all its grads (over the rows )\n",
    "\n",
    "print(hpreact.shape, bngain.shape, bnraw.shape, bnbias.shape)\n",
    "\n",
    "dbngain = (bnraw * dhpreact).sum(0, keepdim=True) # torch.Size([1, 64]) = torch.Size([32, 64]) * torch.Size([32, 64])\n",
    "cmp('dbngain', dbngain, bngain)"
   ]
  },
  {
   "cell_type": "code",
   "execution_count": 30,
   "id": "a41716be",
   "metadata": {},
   "outputs": [
    {
     "name": "stdout",
     "output_type": "stream",
     "text": [
      "dbnraw          | exact: False | approximate: True  | maxdiff: 4.656612873077393e-10\n"
     ]
    }
   ],
   "source": [
    "# Given: \n",
    "# hpreact = bngain * bnraw + bnbias \n",
    "# compute:\n",
    "# dloss/dbnraw\n",
    "\n",
    "dbnraw = dhpreact * bngain # cuz bngain here is relplicated/broadcasted just as in its forward pass \n",
    "cmp('dbnraw', dbnraw, bnraw)"
   ]
  },
  {
   "cell_type": "code",
   "execution_count": 31,
   "id": "e50fded9",
   "metadata": {},
   "outputs": [
    {
     "name": "stdout",
     "output_type": "stream",
     "text": [
      "torch.Size([1, 64]) torch.Size([32, 64])\n",
      "dbnbias         | exact: False | approximate: True  | maxdiff: 3.725290298461914e-09\n"
     ]
    }
   ],
   "source": [
    "# Given: \n",
    "# hpreact = bngain * bnraw + bnbias \n",
    "# compute:\n",
    "# dloss/dbnbias\n",
    "\n",
    "print(bnbias.shape, hpreact.shape)\n",
    "dbnbias = dhpreact.sum(0, keepdim=True)\n",
    "cmp('dbnbias', dbnbias, bnbias)"
   ]
  },
  {
   "cell_type": "code",
   "execution_count": 32,
   "id": "703b1b72",
   "metadata": {},
   "outputs": [
    {
     "name": "stdout",
     "output_type": "stream",
     "text": [
      "torch.Size([32, 64]) torch.Size([32, 64]) torch.Size([1, 64])\n",
      "dbnvar_inv      | exact: False | approximate: True  | maxdiff: 3.725290298461914e-09\n"
     ]
    }
   ],
   "source": [
    "# Given: \n",
    "# bnraw = bndiff * bnvar_inv \n",
    "# compute:\n",
    "# dloss/dbndiff\n",
    "# dloss/dbnvar_inv\n",
    "\n",
    "print(dbnraw.shape, bndiff.shape, bnvar_inv.shape)\n",
    "dbndiff = bnvar_inv * dbnraw\n",
    "# cmp('dbndiff', dbndiff, bndiff) Wrong cuz it is going to be reused, there is another branch\n",
    "\n",
    "dbnvar_inv = (bndiff * dbnraw).sum(0, keepdim=True)\n",
    "cmp('dbnvar_inv', dbnvar_inv, bnvar_inv)"
   ]
  },
  {
   "cell_type": "code",
   "execution_count": 33,
   "id": "ec8e695c",
   "metadata": {},
   "outputs": [
    {
     "name": "stdout",
     "output_type": "stream",
     "text": [
      "dbnvar          | exact: False | approximate: True  | maxdiff: 9.313225746154785e-10\n"
     ]
    }
   ],
   "source": [
    "# Given: \n",
    "# bnvar_inv = (bnvar + 1e-5)**-0.5\n",
    "# compute:\n",
    "# dloss/dbnvar\n",
    "\n",
    "dbnvar = -.5 * (bnvar + 1e-5) **-1.5 * dbnvar_inv\n",
    "cmp('dbnvar', dbnvar, bnvar)"
   ]
  },
  {
   "cell_type": "code",
   "execution_count": 34,
   "id": "0a9958a7",
   "metadata": {},
   "outputs": [
    {
     "name": "stdout",
     "output_type": "stream",
     "text": [
      "torch.Size([1, 64]) torch.Size([32, 64])\n",
      "dbndiff2        | exact: False | approximate: True  | maxdiff: 2.9103830456733704e-11\n"
     ]
    }
   ],
   "source": [
    "# Given: \n",
    "# bnvar = 1/(n-1) * (bndiff2).sum(0, keepdim=True)\n",
    "# compute:\n",
    "# dloss/dbndiff2\n",
    "# corrected var, note: Bessel's correction (dividing by n-1, not n)\n",
    "\n",
    "print(bnvar.shape, bndiff2.shape)\n",
    "\n",
    "# toy example:\n",
    "# b1 = 1/(n-1) * (a11 + a12)\n",
    "# b2 = 1/(n-1) * (a21 + a22)\n",
    "\n",
    "dbndiff2 = 1/(n-1) * dbnvar * torch.ones_like(bndiff2)\n",
    "cmp('dbndiff2', dbndiff2, bndiff2)"
   ]
  },
  {
   "cell_type": "code",
   "execution_count": 35,
   "id": "f31668e5",
   "metadata": {},
   "outputs": [
    {
     "name": "stdout",
     "output_type": "stream",
     "text": [
      "dbndiff         | exact: False | approximate: True  | maxdiff: 4.656612873077393e-10\n"
     ]
    }
   ],
   "source": [
    "# Given: \n",
    "# bndiff2 = bndiff**2 \n",
    "# compute:\n",
    "# dloss/dbndiff\n",
    "\n",
    "dbndiff += 2 * bndiff * dbndiff2\n",
    "cmp('dbndiff', dbndiff, bndiff)"
   ]
  },
  {
   "cell_type": "code",
   "execution_count": 36,
   "id": "e538aa03",
   "metadata": {},
   "outputs": [
    {
     "name": "stdout",
     "output_type": "stream",
     "text": [
      "torch.Size([32, 64]) torch.Size([32, 64]) torch.Size([1, 64])\n",
      "dbnmeani        | exact: False | approximate: True  | maxdiff: 3.725290298461914e-09\n"
     ]
    }
   ],
   "source": [
    "# Given: \n",
    "# bndiff = hprebn - bnmeani\n",
    "# compute:\n",
    "# dloss/dhprebn\n",
    "# dloss/dbnmeani\n",
    "\n",
    "print(bndiff.shape, hprebn.shape, bnmeani.shape )# broadcast -> sum over the same dim, which here is 0\n",
    "\n",
    "dhprebn = dbndiff.clone()\n",
    "# cmp('dhprebn', dhprebn, hprebn) does not work bcuz used again\n",
    "dbnmeani = (-dbndiff).sum(0, keepdim=True)\n",
    "cmp('dbnmeani', dbnmeani, bnmeani)"
   ]
  },
  {
   "cell_type": "code",
   "execution_count": 37,
   "id": "e1e20880",
   "metadata": {},
   "outputs": [
    {
     "name": "stdout",
     "output_type": "stream",
     "text": [
      "dhprebn         | exact: False | approximate: True  | maxdiff: 4.656612873077393e-10\n"
     ]
    }
   ],
   "source": [
    "# Given: \n",
    "# bnmeani = 1/n * hprebn.sum(0, keepdim=True)\n",
    "# compute:\n",
    "# dloss/dhprebn\n",
    "\n",
    "bnmeani.shape, hprebn.shape\n",
    "\n",
    "dhprebn += 1/n * dbnmeani *  torch.ones_like(hprebn)\n",
    "cmp('dhprebn', dhprebn, hprebn)"
   ]
  },
  {
   "cell_type": "code",
   "execution_count": 38,
   "id": "204e32b8",
   "metadata": {},
   "outputs": [
    {
     "name": "stdout",
     "output_type": "stream",
     "text": [
      "torch.Size([32, 64]) torch.Size([32, 30]) torch.Size([30, 64]) torch.Size([64])\n",
      "dembcat         | exact: False | approximate: True  | maxdiff: 2.7939677238464355e-09\n",
      "dW1             | exact: False | approximate: True  | maxdiff: 5.587935447692871e-09\n",
      "db1             | exact: False | approximate: True  | maxdiff: 3.958120942115784e-09\n"
     ]
    }
   ],
   "source": [
    "# Given: \n",
    "# hprebn = embcat @ W1 + b1\n",
    "# compute:\n",
    "# dloss/dembcat\n",
    "# dloss/dW1\n",
    "# dloss/db1\n",
    "\n",
    "print(hprebn.shape, embcat.shape, W1.shape, b1.shape)\n",
    "dembcat = dhprebn @ W1.T\n",
    "dW1 = embcat.T @ dhprebn\n",
    "db1 = dhprebn.sum(0, keepdim=True)\n",
    "\n",
    "cmp('dembcat', dembcat, embcat)\n",
    "cmp('dW1', dW1, W1)\n",
    "cmp('db1', db1, b1)"
   ]
  },
  {
   "cell_type": "code",
   "execution_count": 39,
   "id": "bd71a8a3",
   "metadata": {},
   "outputs": [
    {
     "name": "stdout",
     "output_type": "stream",
     "text": [
      "torch.Size([32, 30]) torch.Size([32, 3, 10])\n",
      "demb            | exact: False | approximate: True  | maxdiff: 2.7939677238464355e-09\n"
     ]
    }
   ],
   "source": [
    "# Given: \n",
    "# embcat = emb.view(emb.shape[0], -1)\n",
    "# compute:\n",
    "# dloss/demb\n",
    "\n",
    "print(dembcat.shape, emb.shape)\n",
    "demb = dembcat.view(emb.shape) # view is just a superficial reshape\n",
    "cmp('demb', demb, emb) "
   ]
  },
  {
   "cell_type": "code",
   "execution_count": 40,
   "id": "041676bc",
   "metadata": {},
   "outputs": [
    {
     "name": "stdout",
     "output_type": "stream",
     "text": [
      "torch.Size([32, 3, 10]) torch.Size([32, 3, 10])\n",
      "dC              | exact: False | approximate: True  | maxdiff: 7.450580596923828e-09\n"
     ]
    }
   ],
   "source": [
    "# Given: \n",
    "# emb = C[Xb]\n",
    "# compute:\n",
    "# dloss/dC\n",
    "\n",
    "# each row-idx of C represents a char and the whole row contains the prob of the next char\n",
    "# for each occurrence of a char in Xb we need an addition\n",
    "print(demb.shape, C[Xb].shape)      \n",
    "# Xb contain indxs to be used to grab the correct entry in C\n",
    "\n",
    "dC = torch.zeros_like(C) # derivative of same shape of the containing dstruct\n",
    "for k in range(Xb.shape[0]): # for each obs in batch\n",
    "    for j in range(Xb.shape[1]): # for each char used in obs\n",
    "        ix = Xb[k,j] # get coords        \n",
    "        dC[ix]+= demb[k,j] # given that emb is just C[Xb] with embeddings replacing chars we can index to pass grad\n",
    "cmp('dC', dC, C) "
   ]
  },
  {
   "cell_type": "markdown",
   "id": "3c5943a9",
   "metadata": {},
   "source": [
    "# Exercise 2: manual backprop without splitting softmax"
   ]
  },
  {
   "cell_type": "code",
   "execution_count": 41,
   "id": "60bf52f5",
   "metadata": {},
   "outputs": [
    {
     "name": "stdout",
     "output_type": "stream",
     "text": [
      "3.3410890102386475 diff:  0.0\n"
     ]
    }
   ],
   "source": [
    "# Backprop thru cross_entropy_loss but all in one go\n",
    "loss_fast = F.cross_entropy(logits, Yb)\n",
    "print(loss_fast.item(), 'diff: ', (loss_fast - loss).item())"
   ]
  },
  {
   "cell_type": "code",
   "execution_count": 42,
   "id": "a2a34c38",
   "metadata": {},
   "outputs": [
    {
     "name": "stdout",
     "output_type": "stream",
     "text": [
      "dlogits         | exact: False | approximate: True  | maxdiff: 4.889443516731262e-09\n"
     ]
    }
   ],
   "source": [
    "# forward pass cross entropy loss:\n",
    "# we get logits, we apply softmax, we take idx of label and we take prob_i at idx of label,\n",
    "# we apply -log(prob_i) -> average these for the whole batch = cross entropy loss\n",
    "\n",
    "# backward pass cross entropy loss:\n",
    "# dloss/dlogit_i = sum_for_all_i_in_batch/bs [-log(prob_i)] = \n",
    "#                = sum_for_all_i_in_batch/bs -log(e**logit_i/sum_for_all_js e**logit_j) = \n",
    "# where i is the indx of the correct label\n",
    "# step1  set aside the 1/n and extract e**logit_i from the sum and drop log (logx = 1/x)\n",
    "# step2 2 cases: 1 if i == j --> dloss/dlogit_i = 1 - prob_i\n",
    "#                2 if i != j --> dloss/dlogit_i = prob_i\n",
    "# so from our [bs x outclasses] we need to: do nothing if not at correct index, do -1 if at correct index \n",
    "# where prob_i is the prob vector obtained by applying the softmax function to the logits \n",
    "# recalling that the derivative of the sum is the sum of the derivatives we can easly backprop thru the mean\n",
    "# and scale by 1/n\n",
    "\n",
    "dlogits = F.softmax(logits, 1)\n",
    "dlogits[range(n), Yb] -= 1 \n",
    "dlogits /= n\n",
    "cmp('dlogits', dlogits, logits) "
   ]
  },
  {
   "cell_type": "markdown",
   "id": "afe9364c",
   "metadata": {},
   "source": [
    "# Intuition behind dlogits!"
   ]
  },
  {
   "cell_type": "code",
   "execution_count": 43,
   "id": "f2bc6980",
   "metadata": {},
   "outputs": [
    {
     "data": {
      "text/plain": [
       "tensor([0.0764, 0.0847, 0.0189, 0.0490, 0.0183, 0.0876, 0.0257, 0.0346, 0.0169,\n",
       "        0.0309, 0.0375, 0.0388, 0.0391, 0.0272, 0.0340, 0.0134, 0.0089, 0.0191,\n",
       "        0.0145, 0.0565, 0.0497, 0.0193, 0.0271, 0.0657, 0.0576, 0.0255, 0.0229],\n",
       "       grad_fn=<SelectBackward0>)"
      ]
     },
     "execution_count": 43,
     "metadata": {},
     "output_type": "execute_result"
    }
   ],
   "source": [
    "F.softmax(logits, 1)[0] # foward pass results for the first sample in batch\n",
    "# the net is not yet trained so we don't have any real pattern here"
   ]
  },
  {
   "cell_type": "code",
   "execution_count": 44,
   "id": "bfc50fe6",
   "metadata": {},
   "outputs": [
    {
     "data": {
      "text/plain": [
       "tensor([ 0.0764,  0.0847,  0.0189,  0.0490,  0.0183,  0.0876,  0.0257,  0.0346,\n",
       "        -0.9831,  0.0309,  0.0375,  0.0388,  0.0391,  0.0272,  0.0340,  0.0134,\n",
       "         0.0089,  0.0191,  0.0145,  0.0565,  0.0497,  0.0193,  0.0271,  0.0657,\n",
       "         0.0576,  0.0255,  0.0229], grad_fn=<MulBackward0>)"
      ]
     },
     "execution_count": 44,
     "metadata": {},
     "output_type": "execute_result"
    }
   ],
   "source": [
    "dlogits[0] * n # backward pass results for the first sample in batch\n",
    "# we can see that the correct probability has a large negative gradient (due to the -1) \n",
    "# while all the other values remained untouched from the forward pass!"
   ]
  },
  {
   "cell_type": "code",
   "execution_count": 45,
   "id": "e0e9d5a0",
   "metadata": {},
   "outputs": [
    {
     "data": {
      "text/plain": [
       "tensor(6.9849e-10, grad_fn=<SumBackward0>)"
      ]
     },
     "execution_count": 45,
     "metadata": {},
     "output_type": "execute_result"
    }
   ],
   "source": [
    "dlogits[0].sum() # sums to 0! Idea: for each row we are going to pull down the probabilities at wrong idxs, and \n",
    "# we are going to pull up the probability at the correct index. The ammount of push and pull is equal cuz the \n",
    "# sum of gradients is 0! The \"how much we are pulling\" is given by the magnitudes of out probabilities.  \n",
    "# if we had perfect result then dlogits = torch.zeros\n",
    "# the ammount of how much you prediction is incorrect defines how much push/pull it is going to be done in that \n",
    "# dimension.\n",
    "\n",
    "\n",
    "# Observations:\n",
    "# 1) if the nn is undecided between two classes, i.e. we have a negative gradient due to the -1, but we also have \n",
    "# a very wrong prediction for another class, then what happens is that the grad to diminish the wrongfully labeled\n",
    "# class is equal to the gradient for the correct class\n",
    "\n",
    "# 2) all of this is based on SGD on NegativeLogLikelihood (NLL): recalling that we want \n",
    "# max val in LogLikelihood (LL) -> min on NLL -> step in the direction of a negative grad = decrease loss\n",
    "\n",
    "# 3) Goal: increase Ws that improve loss, decrease Ws that decrease loss\n",
    "# update rule: p.data += - lr * p.grad\n",
    "# if grad < 0 then update to p.data is positive, p increases\n",
    "# if grad > 0 then update to p.data is negative, p decreases"
   ]
  },
  {
   "cell_type": "code",
   "execution_count": 46,
   "id": "a80b4472",
   "metadata": {},
   "outputs": [
    {
     "data": {
      "text/plain": [
       "<matplotlib.image.AxesImage at 0x7f3dd3035060>"
      ]
     },
     "execution_count": 46,
     "metadata": {},
     "output_type": "execute_result"
    },
    {
     "data": {
      "image/png": "[encoded data removed]",
      "text/plain": [
       "<Figure size 800x800 with 1 Axes>"
      ]
     },
     "metadata": {},
     "output_type": "display_data"
    }
   ],
   "source": [
    "# Below we have a plot of a grid of size [bs x outclasses]. In the forward pass we can think of logits \n",
    "# as the raw unnormalized probabilities given by the nn.\n",
    "# In the img above we have black squares where we removed a 1 cuz it was the logit of the correct answer, \n",
    "\n",
    "plt.figure(figsize=(8,8))\n",
    "plt.imshow(dlogits.data, cmap='gray')"
   ]
  },
  {
   "cell_type": "markdown",
   "id": "6798c280",
   "metadata": {},
   "source": [
    "# Exercise 3: Derivation of batch norm in 1 step"
   ]
  },
  {
   "cell_type": "code",
   "execution_count": 47,
   "id": "1df49a0d",
   "metadata": {},
   "outputs": [
    {
     "name": "stdout",
     "output_type": "stream",
     "text": [
      "max diff:  tensor(4.7684e-07, grad_fn=<MaxBackward1>)\n"
     ]
    }
   ],
   "source": [
    "# forward pass\n",
    "hpreact_fast = bngain * (hprebn - hprebn.mean(0, keepdim=True)) / \\\n",
    "    torch.sqrt(hprebn.var(0, keepdim=True, unbiased=True) + 1e-5) + bnbias\n",
    "    \n",
    "print('max diff: ', (hpreact_fast - hpreact).abs().max())"
   ]
  },
  {
   "cell_type": "code",
   "execution_count": 48,
   "id": "11d21298",
   "metadata": {},
   "outputs": [
    {
     "name": "stdout",
     "output_type": "stream",
     "text": [
      "dhprebn         | exact: False | approximate: True  | maxdiff: 9.313225746154785e-10\n"
     ]
    }
   ],
   "source": [
    "# backward pass\n",
    "# dloss/dhprebn given dhpreact (i.e. backprop thru BN layer)\n",
    "\n",
    "dhprebn = bngain * bnvar_inv/n * (n*dhpreact -dhpreact.sum(0) - n/(n-1) * bnraw*(dhpreact*bnraw).sum(0))\n",
    "cmp('dhprebn', dhprebn, hprebn) "
   ]
  },
  {
   "cell_type": "markdown",
   "id": "a17e34f6",
   "metadata": {},
   "source": [
    "# Exercise 4: Train the MLP neural net with your own backward pass\n"
   ]
  },
  {
   "cell_type": "code",
   "execution_count": 82,
   "id": "3938757a",
   "metadata": {},
   "outputs": [],
   "source": [
    "def check_shapes(name, d, g): \n",
    "    print(name, d.shape, g.shape)\n",
    "    assert d.shape == g.shape"
   ]
  },
  {
   "cell_type": "code",
   "execution_count": 87,
   "id": "4e56d825",
   "metadata": {},
   "outputs": [
    {
     "name": "stdout",
     "output_type": "stream",
     "text": [
      "12297\n",
      "      0/ 200000: 3.7910\n",
      "  10000/ 200000: 2.1903\n",
      "  20000/ 200000: 2.3417\n",
      "  30000/ 200000: 2.4356\n",
      "  40000/ 200000: 2.0346\n",
      "  50000/ 200000: 2.3475\n",
      "  60000/ 200000: 2.4353\n",
      "  70000/ 200000: 1.9937\n",
      "  80000/ 200000: 2.3515\n",
      "  90000/ 200000: 2.1714\n",
      " 100000/ 200000: 1.9179\n",
      " 110000/ 200000: 2.3189\n",
      " 120000/ 200000: 2.0045\n",
      " 130000/ 200000: 2.3963\n",
      " 140000/ 200000: 2.2860\n",
      " 150000/ 200000: 2.2051\n",
      " 160000/ 200000: 1.9602\n",
      " 170000/ 200000: 1.8293\n",
      " 180000/ 200000: 2.0183\n",
      " 190000/ 200000: 1.9335\n"
     ]
    }
   ],
   "source": [
    "# init\n",
    "n_embd = 10 # the dimensionality of the character embedding vectors\n",
    "n_hidden = 200 # the number of neurons in the hidden layer of the MLP\n",
    "\n",
    "g = torch.Generator().manual_seed(2147483647) # for reproducibility\n",
    "C  = torch.randn((vocab_size, n_embd),            generator=g)\n",
    "# Layer 1\n",
    "W1 = torch.randn((n_embd * block_size, n_hidden), generator=g) * (5/3)/((n_embd * block_size)**0.5)\n",
    "b1 = torch.randn(n_hidden,                        generator=g) * 0.1\n",
    "# Layer 2\n",
    "W2 = torch.randn((n_hidden, vocab_size),          generator=g) * 0.1\n",
    "b2 = torch.randn(vocab_size,                      generator=g) * 0.1\n",
    "# BatchNorm parameters\n",
    "bngain = torch.randn((1, n_hidden))*0.1 + 1.0\n",
    "bnbias = torch.randn((1, n_hidden))*0.1\n",
    "\n",
    "parameters = [C, W1, b1, W2, b2, bngain, bnbias]\n",
    "print(sum(p.nelement() for p in parameters)) # number of parameters in total\n",
    "for p in parameters:\n",
    "    p.requires_grad = True\n",
    "\n",
    "# same optimization as last time\n",
    "max_steps = 200000\n",
    "batch_size = 32\n",
    "n = batch_size # convenience\n",
    "lossi = []\n",
    "\n",
    "# use this context manager for efficiency once your backward pass is written (TODO)\n",
    "with torch.no_grad():\n",
    "\n",
    "    # kick off optimization\n",
    "    for i in range(max_steps):\n",
    "\n",
    "        # minibatch construct\n",
    "        ix = torch.randint(0, Xtr.shape[0], (batch_size,), generator=g)\n",
    "        Xb, Yb = Xtr[ix], Ytr[ix] # batch X,Y\n",
    "\n",
    "        # forward pass\n",
    "        emb = C[Xb] # embed the characters into vectors\n",
    "        embcat = emb.view(emb.shape[0], -1) # concatenate the vectors\n",
    "        # Linear layer\n",
    "        hprebn = embcat @ W1 + b1 # hidden layer pre-activation\n",
    "        # BatchNorm layer\n",
    "        # -------------------------------------------------------------\n",
    "        bnmean = hprebn.mean(0, keepdim=True)\n",
    "        bnvar = hprebn.var(0, keepdim=True, unbiased=True)\n",
    "        bnvar_inv = (bnvar + 1e-5)**-0.5\n",
    "        bnraw = (hprebn - bnmean) * bnvar_inv\n",
    "        hpreact = bngain * bnraw + bnbias\n",
    "        # -------------------------------------------------------------\n",
    "        # Non-linearity\n",
    "        h = torch.tanh(hpreact) # hidden layer\n",
    "        logits = h @ W2 + b2 # output layer\n",
    "        loss = F.cross_entropy(logits, Yb) # loss function\n",
    "\n",
    "\n",
    "#         for t in [logits, h, W2, bnmean, b2 ,bnvar ,bnvar_inv ,bnraw ,hpreact, hprebn, embcat, emb]: \n",
    "#             t.retain_grad()\n",
    "\n",
    "        # backward pass\n",
    "        for p in parameters:\n",
    "            p.grad = None\n",
    "    #     loss.backward() # use this for correctness comparisons, delete it later!\n",
    "\n",
    "        # manual backprop! \n",
    "        dC, dW1, db1, dW2, db2, dbngain, dbnbias = None, None, None, None, None, None, None\n",
    "\n",
    "        # -----------------\n",
    "        # binary cross entropy backprop\n",
    "        dlogits = F.softmax(logits, 1)\n",
    "        dlogits[range(n), Yb] -= 1 \n",
    "        dlogits /= n\n",
    "        # cmp('dlogits', dlogits, logits) \n",
    "\n",
    "        # second layer backprop\n",
    "        dh = dlogits @ W2.T    \n",
    "        # cmp('dh', dh, h) \n",
    "        dW2 = h.T @ dlogits\n",
    "        # cmp('dW2', dW2, W2) \n",
    "        db2 = dlogits.sum(0, keepdim=True)\n",
    "        # cmp('db2', db2, b2) \n",
    "\n",
    "        # tanh backprop\n",
    "        dhpreact = (1.0 - h**2) * dh\n",
    "        # cmp('dhpreact', dhpreact, hpreact) \n",
    "\n",
    "        # batch norm backprop\n",
    "        dhprebn = bngain * bnvar_inv/n * (n*dhpreact - dhpreact.sum(0) - n/(n-1) * bnraw*(dhpreact*bnraw).sum(0))\n",
    "        # cmp('dhprebn', dhprebn, hprebn) \n",
    "        dbngain = (bnraw * dhpreact).sum(0, keepdim=True) # torch.Size([1, 64]) = torch.Size([32, 64]) * torch.Size([32, 64])\n",
    "        # cmp('dbngain', dbngain, bngain) \n",
    "        dbnbias = dhpreact.sum(0, keepdim=True)\n",
    "        # cmp('dbnbias', dbnbias, bnbias) \n",
    "\n",
    "        # first layer backprop\n",
    "        dembcat = dhprebn @ W1.T\n",
    "        # cmp('dembcat', dembcat, embcat) \n",
    "        dW1 = embcat.T @ dhprebn\n",
    "        # cmp('dW1', dW1, W1) \n",
    "        db1 = dhprebn.sum(0, keepdim=True)\n",
    "        # cmp('db1', db1, b1) \n",
    "        \n",
    "        # embedding backprop\n",
    "        demb = dembcat.view(emb.shape) # view is just a superficial reshape\n",
    "        # cmp('demb', demb, emb) \n",
    "        dC = torch.zeros_like(C) # derivative of same shape of the containing dstruct\n",
    "        for k in range(Xb.shape[0]): # for each obs in batch\n",
    "            for j in range(Xb.shape[1]): # for each char used in obs\n",
    "                ix = Xb[k,j] # get coords        \n",
    "                dC[ix]+= demb[k,j] # given that emb is just C[Xb] with embeddings replacing chars we can index to pass grad\n",
    "        # cmp('dC', dC, C) \n",
    "\n",
    "        # -----------------    \n",
    "        grads = [dC, dW1, db1.squeeze(), dW2, db2.squeeze(), dbngain, dbnbias]\n",
    "        # -----------------\n",
    "        \n",
    "#         for p, grad in zip(parameters, grads):\n",
    "#             check_shapes(str(tuple(p.shape)), p, grad)\n",
    "\n",
    "        # update\n",
    "        lr = 0.1 if i < 100000 else 0.01 # step learning rate decay\n",
    "        for p, grad in zip(parameters, grads):\n",
    "#             p.data += -lr * p.grad # old way of cheems doge (using PyTorch grad from .backward())\n",
    "            p.data += -lr * grad # new way of swole doge TODO: enable\n",
    "\n",
    "        # track stats\n",
    "        if i % 10000 == 0: # print every once in a while\n",
    "            print(f'{i:7d}/{max_steps:7d}: {loss.item():.4f}')\n",
    "        lossi.append(loss.log10().item())\n",
    "\n",
    "#         if i >= 100: # TODO: delete early breaking when you're ready to train the full net\n",
    "#             break"
   ]
  },
  {
   "cell_type": "code",
   "execution_count": 89,
   "id": "55b62435",
   "metadata": {},
   "outputs": [],
   "source": [
    "# calibrate the batch norm at the end of training\n",
    "\n",
    "with torch.no_grad():\n",
    "    # pass the training set through\n",
    "    emb = C[Xtr]\n",
    "    embcat = emb.view(emb.shape[0], -1)\n",
    "    hpreact = embcat @ W1 + b1\n",
    "    # measure the mean/std over the entire training set\n",
    "    bnmean = hpreact.mean(0, keepdim=True)\n",
    "    bnvar = hpreact.var(0, keepdim=True, unbiased=True)"
   ]
  },
  {
   "cell_type": "code",
   "execution_count": 90,
   "id": "e2090851",
   "metadata": {},
   "outputs": [
    {
     "name": "stdout",
     "output_type": "stream",
     "text": [
      "train 2.0720582008361816\n",
      "val 2.1110851764678955\n"
     ]
    }
   ],
   "source": [
    "# evaluate train and val loss\n",
    "\n",
    "@torch.no_grad() # this decorator disables gradient tracking\n",
    "def split_loss(split):\n",
    "    x,y = {\n",
    "    'train': (Xtr, Ytr),\n",
    "    'val': (Xdev, Ydev),\n",
    "    'test': (Xte, Yte),\n",
    "    }[split]\n",
    "    emb = C[x] # (N, block_size, n_embd)\n",
    "    embcat = emb.view(emb.shape[0], -1) # concat into (N, block_size * n_embd)\n",
    "    hpreact = embcat @ W1 + b1\n",
    "    hpreact = bngain * (hpreact - bnmean) * (bnvar + 1e-5)**-0.5 + bnbias\n",
    "    h = torch.tanh(hpreact) # (N, n_hidden)\n",
    "    logits = h @ W2 + b2 # (N, vocab_size)\n",
    "    loss = F.cross_entropy(logits, y)\n",
    "    print(split, loss.item())\n",
    "\n",
    "split_loss('train')\n",
    "split_loss('val')"
   ]
  },
  {
   "cell_type": "code",
   "execution_count": 92,
   "id": "80a69772",
   "metadata": {},
   "outputs": [
    {
     "name": "stdout",
     "output_type": "stream",
     "text": [
      "mora.\n",
      "mayah.\n",
      "see.\n",
      "mad.\n",
      "ryla.\n",
      "rethruthadraegan.\n",
      "chedielin.\n",
      "shi.\n",
      "jen.\n",
      "eden.\n",
      "sana.\n",
      "arleigh.\n",
      "malaia.\n",
      "noshub.\n",
      "roshiriel.\n",
      "kindreelynn.\n",
      "nophir.\n",
      "ubented.\n",
      "ryyah.\n",
      "fael.\n"
     ]
    }
   ],
   "source": [
    "# sample from the model\n",
    "g = torch.Generator().manual_seed(2147483647 + 10)\n",
    "\n",
    "for _ in range(20):\n",
    "\n",
    "    out = []\n",
    "    context = [0] * block_size # initialize with all ...\n",
    "    while True:\n",
    "        # forward pass\n",
    "        emb = C[torch.tensor([context])] # (1,block_size,d)      \n",
    "        embcat = emb.view(emb.shape[0], -1) # concat into (N, block_size * n_embd)\n",
    "        hpreact = embcat @ W1 + b1\n",
    "        hpreact = bngain * (hpreact - bnmean) * (bnvar + 1e-5)**-0.5 + bnbias\n",
    "        h = torch.tanh(hpreact) # (N, n_hidden)\n",
    "        logits = h @ W2 + b2 # (N, vocab_size)\n",
    "        # sample\n",
    "        probs = F.softmax(logits, dim=1)\n",
    "        ix = torch.multinomial(probs, num_samples=1, generator=g).item()\n",
    "        context = context[1:] + [ix]\n",
    "        out.append(ix)\n",
    "        if ix == 0:\n",
    "            break\n",
    "\n",
    "    print(''.join(itos[i] for i in out))"
   ]
  },
  {
   "cell_type": "code",
   "execution_count": null,
   "id": "49423702",
   "metadata": {},
   "outputs": [],
   "source": []
  }
 ],
 "metadata": {
  "kernelspec": {
   "display_name": "Python 3 (ipykernel)",
   "language": "python",
   "name": "python3"
  },
  "language_info": {
   "codemirror_mode": {
    "name": "ipython",
    "version": 3
   },
   "file_extension": ".py",
   "mimetype": "text/x-python",
   "name": "python",
   "nbconvert_exporter": "python",
   "pygments_lexer": "ipython3",
   "version": "3.10.13"
  }
 },
 "nbformat": 4,
 "nbformat_minor": 5
}
